{
 "cells": [
  {
   "cell_type": "code",
   "execution_count": 1,
   "metadata": {
    "tags": []
   },
   "outputs": [],
   "source": [
    "from pyspark.ml.linalg import Vector, Vectors\n",
    "from pyspark.sql import Row, functions, SparkSession\n",
    "from pyspark.ml.evaluation import MulticlassClassificationEvaluator\n",
    "from pyspark.ml import Pipeline\n",
    "from pyspark.ml.feature import IndexToString, StringIndexer, VectorIndexer,HashingTF, Tokenizer\n",
    "from pyspark.ml.classification import LogisticRegression, LogisticRegressionModel,BinaryLogisticRegressionSummary"
   ]
  },
  {
   "cell_type": "code",
   "execution_count": 2,
   "metadata": {},
   "outputs": [],
   "source": [
    "spark = SparkSession.builder \\\n",
    "        .master(\"local\") \\\n",
    "        .appName(\"example\") \\\n",
    "        .config(\"spark.debug.maxToStringFields\", \"100\") \\\n",
    "        .config(\"spark.sql.shuffle.partitions\", \"400\") \\\n",
    "        .config(\"spark.default.parallelism\", \"600\") \\\n",
    "        .config(\"spark.sql.auto.repartition\", \"true\") \\\n",
    "        .config(\"spark.sql.execution.arrow.enabled\", \"true\") \\\n",
    "        .enableHiveSupport() \\\n",
    "        .getOrCreate()"
   ]
  },
  {
   "cell_type": "code",
   "execution_count": 1,
   "metadata": {},
   "outputs": [
    {
     "name": "stderr",
     "output_type": "stream",
     "text": [
      "INFO:pystan:COMPILING THE C++ CODE FOR MODEL anon_model_5944b02c79788fa0db5b3a93728ca2bf NOW.\n"
     ]
    },
    {
     "data": {
      "text/plain": [
       "-0.001983948877864826"
      ]
     },
     "execution_count": 1,
     "metadata": {},
     "output_type": "execute_result"
    }
   ],
   "source": [
    "import pystan\n",
    "model_code = 'parameters {real y;} model {y ~ normal(0,1);}'\n",
    "model = pystan.StanModel(model_code=model_code)\n",
    "y = model.sampling(n_jobs=1).extract()['y']\n",
    "y.mean()  # 结果应当在 0 附近"
   ]
  },
  {
   "cell_type": "code",
   "execution_count": null,
   "metadata": {},
   "outputs": [],
   "source": []
  }
 ],
 "metadata": {
  "kernelspec": {
   "display_name": "Python 3",
   "language": "python",
   "name": "python3"
  },
  "language_info": {
   "codemirror_mode": {
    "name": "ipython",
    "version": 3
   },
   "file_extension": ".py",
   "mimetype": "text/x-python",
   "name": "python",
   "nbconvert_exporter": "python",
   "pygments_lexer": "ipython3",
   "version": "3.6.13"
  }
 },
 "nbformat": 4,
 "nbformat_minor": 4
}
