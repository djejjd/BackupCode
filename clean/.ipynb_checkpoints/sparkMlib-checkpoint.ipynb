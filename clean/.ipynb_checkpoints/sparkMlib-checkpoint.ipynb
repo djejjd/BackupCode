{
 "cells": [
  {
   "cell_type": "code",
   "execution_count": 3,
   "id": "hidden-carol",
   "metadata": {},
   "outputs": [],
   "source": [
    "from pyspark.ml.linalg import Vector, Vectors\n",
    "from pyspark.sql import Row, functions, SparkSession\n",
    "from pyspark.ml.evaluation import MulticlassClassificationEvaluator\n",
    "from pyspark.ml import Pipeline\n",
    "from pyspark.ml.feature import IndexToString, StringIndexer, VectorIndexer,HashingTF, Tokenizer\n",
    "from pyspark.ml.classification import LogisticRegression, LogisticRegressionModel,BinaryLogisticRegressionSummary"
   ]
  },
  {
   "cell_type": "code",
   "execution_count": 25,
   "id": "automatic-humanitarian",
   "metadata": {},
   "outputs": [
    {
     "data": {
      "text/plain": [
       "'\\n逻辑斯蒂回归分类器\\n'"
      ]
     },
     "execution_count": 25,
     "metadata": {},
     "output_type": "execute_result"
    }
   ],
   "source": [
    "\"\"\"\n",
    "逻辑斯蒂回归分类器\n",
    "\"\"\""
   ]
  },
  {
   "cell_type": "code",
   "execution_count": 3,
   "id": "checked-witness",
   "metadata": {},
   "outputs": [],
   "source": [
    "def f(x):\n",
    "    rel = {}\n",
    "    rel['features'] = Vectors.dense(float(x[0]), float(x[1]), float(x[2]), float(x[3]))\n",
    "    rel['label'] = str(x[4])\n",
    "    return rel"
   ]
  },
  {
   "cell_type": "code",
   "execution_count": 4,
   "id": "golden-finland",
   "metadata": {},
   "outputs": [],
   "source": [
    "spark = SparkSession.builder \\\n",
    "        .master(\"local\") \\\n",
    "        .appName(\"example\") \\\n",
    "        .config(\"spark.debug.maxToStringFields\", \"100\") \\\n",
    "        .config(\"spark.sql.shuffle.partitions\", \"400\") \\\n",
    "        .config(\"spark.default.parallelism\", \"600\") \\\n",
    "        .config(\"spark.sql.auto.repartition\", \"true\") \\\n",
    "        .config(\"spark.sql.execution.arrow.enabled\", \"true\") \\\n",
    "        .enableHiveSupport() \\\n",
    "        .getOrCreate()"
   ]
  },
  {
   "cell_type": "code",
   "execution_count": 10,
   "id": "capable-ladder",
   "metadata": {},
   "outputs": [
    {
     "name": "stdout",
     "output_type": "stream",
     "text": [
      "+-----------------+-----------+\n",
      "|         features|      label|\n",
      "+-----------------+-----------+\n",
      "|[5.1,3.5,1.4,0.2]|Iris-setosa|\n",
      "|[4.9,3.0,1.4,0.2]|Iris-setosa|\n",
      "|[4.7,3.2,1.3,0.2]|Iris-setosa|\n",
      "|[4.6,3.1,1.5,0.2]|Iris-setosa|\n",
      "|[5.0,3.6,1.4,0.2]|Iris-setosa|\n",
      "|[5.4,3.9,1.7,0.4]|Iris-setosa|\n",
      "|[4.6,3.4,1.4,0.3]|Iris-setosa|\n",
      "|[5.0,3.4,1.5,0.2]|Iris-setosa|\n",
      "|[4.4,2.9,1.4,0.2]|Iris-setosa|\n",
      "|[4.9,3.1,1.5,0.1]|Iris-setosa|\n",
      "|[5.4,3.7,1.5,0.2]|Iris-setosa|\n",
      "|[4.8,3.4,1.6,0.2]|Iris-setosa|\n",
      "|[4.8,3.0,1.4,0.1]|Iris-setosa|\n",
      "|[4.3,3.0,1.1,0.1]|Iris-setosa|\n",
      "|[5.8,4.0,1.2,0.2]|Iris-setosa|\n",
      "|[5.7,4.4,1.5,0.4]|Iris-setosa|\n",
      "|[5.4,3.9,1.3,0.4]|Iris-setosa|\n",
      "|[5.1,3.5,1.4,0.3]|Iris-setosa|\n",
      "|[5.7,3.8,1.7,0.3]|Iris-setosa|\n",
      "|[5.1,3.8,1.5,0.3]|Iris-setosa|\n",
      "+-----------------+-----------+\n",
      "only showing top 20 rows\n",
      "\n"
     ]
    }
   ],
   "source": [
    "data = spark.sparkContext.textFile(\"file:///home/hadoop/data/sparkMlib/iris.txt\") \\\n",
    ".map(lambda line: line.split(',')) \\\n",
    ".map(lambda p: Row(**f(p))) \\\n",
    ".toDF()\n",
    "\n",
    "data.show()"
   ]
  },
  {
   "cell_type": "code",
   "execution_count": 12,
   "id": "orange-mortgage",
   "metadata": {},
   "outputs": [],
   "source": [
    "# 获取标签列和特征列，进行索引并重命名\n",
    "labelIndexer = StringIndexer() \\\n",
    ".setInputCol(\"label\") \\\n",
    ".setOutputCol(\"indexedLabel\") \\\n",
    ".fit(data)\n",
    "\n",
    "featureIndexer = VectorIndexer() \\\n",
    ".setInputCol(\"features\") \\\n",
    ".setOutputCol(\"indexedFeatures\") \\\n",
    ".fit(data)"
   ]
  },
  {
   "cell_type": "code",
   "execution_count": 13,
   "id": "coastal-proxy",
   "metadata": {},
   "outputs": [
    {
     "name": "stdout",
     "output_type": "stream",
     "text": [
      "LogisticRegression parameters:\n",
      "aggregationDepth: suggested depth for treeAggregate (>= 2). (default: 2)\n",
      "elasticNetParam: the ElasticNet mixing parameter, in range [0, 1]. For alpha = 0, the penalty is an L2 penalty. For alpha = 1, it is an L1 penalty. (default: 0.0, current: 0.8)\n",
      "family: The name of family which is a description of the label distribution to be used in the model. Supported options: auto, binomial, multinomial (default: auto)\n",
      "featuresCol: features column name. (default: features, current: indexedFeatures)\n",
      "fitIntercept: whether to fit an intercept term. (default: True)\n",
      "labelCol: label column name. (default: label, current: indexedLabel)\n",
      "lowerBoundsOnCoefficients: The lower bounds on coefficients if fitting under bound constrained optimization. The bound matrix must be compatible with the shape (1, number of features) for binomial regression, or (number of classes, number of features) for multinomial regression. (undefined)\n",
      "lowerBoundsOnIntercepts: The lower bounds on intercepts if fitting under bound constrained optimization. The bounds vector size must beequal with 1 for binomial regression, or the number oflasses for multinomial regression. (undefined)\n",
      "maxIter: max number of iterations (>= 0). (default: 100, current: 100)\n",
      "predictionCol: prediction column name. (default: prediction)\n",
      "probabilityCol: Column name for predicted class conditional probabilities. Note: Not all models output well-calibrated probability estimates! These probabilities should be treated as confidences, not precise probabilities. (default: probability)\n",
      "rawPredictionCol: raw prediction (a.k.a. confidence) column name. (default: rawPrediction)\n",
      "regParam: regularization parameter (>= 0). (default: 0.0, current: 0.3)\n",
      "standardization: whether to standardize the training features before fitting the model. (default: True)\n",
      "threshold: Threshold in binary classification prediction, in range [0, 1]. If threshold and thresholds are both set, they must match.e.g. if threshold is p, then thresholds must be equal to [1-p, p]. (default: 0.5)\n",
      "thresholds: Thresholds in multi-class classification to adjust the probability of predicting each class. Array must have length equal to the number of classes, with values > 0, excepting that at most one value may be 0. The class with largest value p/t is predicted, where p is the original probability of that class and t is the class's threshold. (undefined)\n",
      "tol: the convergence tolerance for iterative algorithms (>= 0). (default: 1e-06)\n",
      "upperBoundsOnCoefficients: The upper bounds on coefficients if fitting under bound constrained optimization. The bound matrix must be compatible with the shape (1, number of features) for binomial regression, or (number of classes, number of features) for multinomial regression. (undefined)\n",
      "upperBoundsOnIntercepts: The upper bounds on intercepts if fitting under bound constrained optimization. The bound vector size must be equal with 1 for binomial regression, or the number of classes for multinomial regression. (undefined)\n",
      "weightCol: weight column name. If this is not set or empty, we treat all instance weights as 1.0. (undefined)\n"
     ]
    }
   ],
   "source": [
    "# 设置LogisticRegression算法参数\n",
    "lr = LogisticRegression() \\\n",
    ".setLabelCol(\"indexedLabel\") \\\n",
    ".setFeaturesCol(\"indexedFeatures\") \\\n",
    "# 循环100次\n",
    ".setMaxIter(100) \\\n",
    "# 规范化项为0.3\n",
    ".setRegParam(0.3) \\\n",
    ".setElasticNetParam(0.8) \\\n",
    "\n",
    "print(\"LogisticRegression parameters:\\n\" + lr.explainParams())"
   ]
  },
  {
   "cell_type": "code",
   "execution_count": 14,
   "id": "recent-scientist",
   "metadata": {},
   "outputs": [],
   "source": [
    "# 设置一个IndexToString的转换器，把预测类别重新转为字符型。\n",
    "labelConverter = IndexToString() \\\n",
    ".setInputCol(\"prediction\") \\\n",
    ".setOutputCol(\"predictedLabel\") \\\n",
    ".setLabels(labelIndexer.labels)\n",
    "\n",
    "lrPipeline = Pipeline() \\\n",
    ".setStages([labelIndexer, featureIndexer, lr, labelConverter])"
   ]
  },
  {
   "cell_type": "code",
   "execution_count": 19,
   "id": "internal-prevention",
   "metadata": {},
   "outputs": [],
   "source": [
    "# 把数据随机分为训练集和预测集，其中训练集占比70%\n",
    "\"\"\"\n",
    "Pipeline本质上是一个评估器，当Pipeline调用fit()的时候就产生了一个PipelineModel，它是一个转换器。\n",
    "然后，这个PipelineModel就可以调用transform()来进行预测，生成一个新的DataFrame，即利用训练得到的模型对测试集进行验证。\n",
    "\"\"\"\n",
    "trainingData, testData = data.randomSplit([0.7, 0.3])\n",
    "lrPipelineModel = lrPipeline.fit(trainingData)\n",
    "lrPredictions = lrPipelineModel.transform(testData)"
   ]
  },
  {
   "cell_type": "code",
   "execution_count": 21,
   "id": "canadian-membrane",
   "metadata": {},
   "outputs": [
    {
     "name": "stdout",
     "output_type": "stream",
     "text": [
      "Iris-setosa,[4.4,3.0,1.3,0.2]-->prob=[0.2990995275653928,0.5244681696764993,0.1764323027581078],predictedLabelIris-setosa\n",
      "Iris-setosa,[4.6,3.1,1.5,0.2]-->prob=[0.3073584871178525,0.5113374296030625,0.18130408327908495],predictedLabelIris-setosa\n",
      "Iris-setosa,[4.6,3.6,1.0,0.2]-->prob=[0.28675440674555536,0.5440954086320626,0.16915018462238196],predictedLabelIris-setosa\n",
      "Iris-setosa,[4.9,3.1,1.5,0.1]-->prob=[0.306000662530688,0.5200441493310121,0.17395518813829988],predictedLabelIris-setosa\n",
      "Iris-setosa,[5.0,3.0,1.6,0.2]-->prob=[0.3114923752684263,0.504765050787903,0.18374257394367055],predictedLabelIris-setosa\n",
      "Iris-setosa,[5.0,3.4,1.6,0.4]-->prob=[0.3136785574127912,0.48709732127968247,0.19922412130752631],predictedLabelIris-setosa\n",
      "Iris-setosa,[5.0,3.6,1.4,0.2]-->prob=[0.30322706302175584,0.5179058908716277,0.1788670461066163],predictedLabelIris-setosa\n",
      "Iris-setosa,[5.1,3.3,1.7,0.5]-->prob=[0.3185030434209542,0.47159425375061087,0.20990270282843493],predictedLabelIris-setosa\n",
      "Iris-setosa,[5.1,3.7,1.5,0.4]-->prob=[0.3096594984109241,0.49366897267018517,0.19667152891889075],predictedLabelIris-setosa\n",
      "Iris-setosa,[5.1,3.8,1.5,0.3]-->prob=[0.30857969396146306,0.5025441760072562,0.18887613003128073],predictedLabelIris-setosa\n",
      "Iris-setosa,[5.1,3.8,1.6,0.2]-->prob=[0.3114923752684263,0.504765050787903,0.18374257394367055],predictedLabelIris-setosa\n",
      "Iris-setosa,[5.2,3.5,1.5,0.2]-->prob=[0.3073584871178525,0.5113374296030625,0.18130408327908495],predictedLabelIris-setosa\n",
      "Iris-setosa,[5.2,4.1,1.5,0.1]-->prob=[0.306000662530688,0.5200441493310121,0.17395518813829988],predictedLabelIris-setosa\n",
      "Iris-setosa,[5.4,3.4,1.7,0.2]-->prob=[0.315627299484251,0.4981910247551466,0.18618167576060246],predictedLabelIris-setosa\n",
      "Iris-setosa,[5.4,3.9,1.7,0.4]-->prob=[0.3176948901791122,0.48053012761662506,0.20177498220426257],predictedLabelIris-setosa\n",
      "Iris-versicolor,[5.6,2.5,3.9,1.1]-->prob=[0.3916677122736384,0.28614651895254556,0.3221857687738161],predictedLabelIris-versicolor\n",
      "Iris-setosa,[5.7,4.4,1.5,0.4]-->prob=[0.3096594984109241,0.49366897267018517,0.19667152891889075],predictedLabelIris-setosa\n",
      "Iris-setosa,[5.8,4.0,1.2,0.2]-->prob=[0.2949772999682483,0.5310220096315009,0.17400069040025073],predictedLabelIris-setosa\n",
      "Iris-versicolor,[5.9,3.2,4.8,1.8]-->prob=[0.3903014478497988,0.19386431988649183,0.41583423226370936],predictedLabelIris-virginica\n",
      "Iris-versicolor,[6.3,2.5,4.9,1.5]-->prob=[0.404959777642485,0.20886011711810806,0.38618010523940693],predictedLabelIris-versicolor\n",
      "Iris-versicolor,[6.7,3.0,5.0,1.7]-->prob=[0.3986961568243066,0.1919350155802907,0.4093688275954027],predictedLabelIris-virginica\n",
      "Iris-versicolor,[5.0,2.3,3.3,1.0]-->prob=[0.3750045942839076,0.327707108033501,0.29728829768259135],predictedLabelIris-versicolor\n",
      "Iris-versicolor,[5.6,3.0,4.1,1.3]-->prob=[0.3921686255122319,0.26049030219186187,0.34734107229590616],predictedLabelIris-versicolor\n",
      "Iris-versicolor,[5.8,2.7,3.9,1.2]-->prob=[0.3892953930663962,0.2784161900522471,0.3322884168813566],predictedLabelIris-versicolor\n",
      "Iris-virginica,[6.0,2.2,5.0,1.5]-->prob=[0.40716692703115726,0.20454817305536074,0.38828489991348203],predictedLabelIris-versicolor\n",
      "Iris-virginica,[6.0,3.0,4.8,1.8]-->prob=[0.3903014478497988,0.19386431988649183,0.41583423226370936],predictedLabelIris-virginica\n",
      "Iris-versicolor,[6.0,3.4,4.5,1.6]-->prob=[0.39209502852979616,0.21991839576573005,0.38798657570447365],predictedLabelIris-versicolor\n",
      "Iris-virginica,[6.1,2.6,5.6,1.4]-->prob=[0.424211281977477,0.18592495944600504,0.389863758576518],predictedLabelIris-versicolor\n",
      "Iris-versicolor,[6.3,2.3,4.4,1.3]-->prob=[0.4000742599173088,0.24558270140599106,0.3543430386767001],predictedLabelIris-versicolor\n",
      "Iris-virginica,[6.3,2.5,5.0,1.9]-->prob=[0.3895839321221877,0.1797224175551525,0.43069365032265966],predictedLabelIris-virginica\n",
      "Iris-virginica,[6.3,2.8,5.1,1.5]-->prob=[0.4093400462699499,0.20030271117251516,0.390357242557535],predictedLabelIris-versicolor\n",
      "Iris-virginica,[6.7,2.5,5.8,1.8]-->prob=[0.40861893393983145,0.15603105232238895,0.4353500137377796],predictedLabelIris-virginica\n",
      "Iris-virginica,[6.7,3.3,5.7,2.1]-->prob=[0.3909211619140187,0.14375925973253442,0.4653195783534468],predictedLabelIris-virginica\n",
      "Iris-virginica,[6.9,3.1,5.1,2.3]-->prob=[0.37116205005365804,0.15315189239501875,0.4756860575513232],predictedLabelIris-virginica\n",
      "Iris-virginica,[7.1,3.0,5.9,2.1]-->prob=[0.39382182038217245,0.13740590208396247,0.46877227753386497],predictedLabelIris-virginica\n",
      "Iris-virginica,[7.2,3.0,5.8,1.6]-->prob=[0.4187606420825668,0.1668665764755612,0.414372781441872],predictedLabelIris-versicolor\n",
      "Iris-virginica,[7.2,3.2,6.0,1.8]-->prob=[0.4119118168051195,0.14922987240679556,0.438858310788085],predictedLabelIris-virginica\n",
      "Iris-virginica,[7.7,2.8,6.7,2.0]-->prob=[0.4105198972522353,0.11855808061938701,0.47092202212837764],predictedLabelIris-virginica\n"
     ]
    }
   ],
   "source": [
    "\"\"\"\n",
    "输出预测的结果，其中，select选择要输出的列，collect获取所有行的数据，用foreach把每行打印出来\n",
    "\"\"\"\n",
    "preRel = lrPredictions.select( \\\n",
    "    \"predictedLabel\", \\\n",
    "    \"label\", \\\n",
    "    \"features\", \\\n",
    "    \"probability\"). \\\n",
    "    collect()\n",
    "\n",
    "for item in preRel: \\\n",
    "    print(str(item['label'])+','+ \\\n",
    "    str(item['features'])+'-->prob='+ \\\n",
    "    str(item['probability'])+',predictedLabel '+ \\\n",
    "    str(item['predictedLabel']))"
   ]
  },
  {
   "cell_type": "code",
   "execution_count": 22,
   "id": "minimal-belly",
   "metadata": {},
   "outputs": [
    {
     "data": {
      "text/plain": [
       "0.842822966507177"
      ]
     },
     "execution_count": 22,
     "metadata": {},
     "output_type": "execute_result"
    }
   ],
   "source": [
    "evaluator = MulticlassClassificationEvaluator() \\\n",
    ".setLabelCol(\"indexedLabel\") \\\n",
    ".setPredictionCol(\"prediction\")\n",
    "\n",
    "lrAccuracy = evaluator.evaluate(lrPredictions)\n",
    "\n",
    "# 模型预测的准确率\n",
    "lrAccuracy\n"
   ]
  },
  {
   "cell_type": "code",
   "execution_count": 23,
   "id": "thirty-production",
   "metadata": {},
   "outputs": [
    {
     "name": "stdout",
     "output_type": "stream",
     "text": [
      "Coefficients: \n",
      " 3 X 4 CSRMatrix\n",
      "(1,2) -0.263\n",
      "(1,3) -0.2131\n",
      "(2,3) 0.3695\n",
      "Intercept: [-0.11478290240322053,0.8313057486567499,-0.7165228462535294]\n",
      " numClasses: 3\n",
      " numFeatures: 4\n"
     ]
    }
   ],
   "source": [
    "lrModel = lrPipelineModel.stages[2]\n",
    "\n",
    "print (\"Coefficients: \\n \" + str(lrModel.coefficientMatrix)+ \\\n",
    "    \"\\nIntercept: \"+str(lrModel.interceptVector)+ \\\n",
    "    \"\\n numClasses: \"+str(lrModel.numClasses)+ \\\n",
    "    \"\\n numFeatures: \"+str(lrModel.numFeatures))\n"
   ]
  },
  {
   "cell_type": "code",
   "execution_count": 24,
   "id": "certified-stationery",
   "metadata": {},
   "outputs": [
    {
     "data": {
      "text/plain": [
       "'\\n决策树分类器\\n'"
      ]
     },
     "execution_count": 24,
     "metadata": {},
     "output_type": "execute_result"
    }
   ],
   "source": [
    "\"\"\"\n",
    "决策树分类器\n",
    "\"\"\""
   ]
  },
  {
   "cell_type": "code",
   "execution_count": 6,
   "id": "violent-database",
   "metadata": {},
   "outputs": [],
   "source": [
    "from pyspark.ml.classification import DecisionTreeClassificationModel\n",
    "from pyspark.ml.classification import DecisionTreeClassifier\n",
    "from pyspark.ml import Pipeline, PipelineModel\n",
    "from pyspark.ml.evaluation import MulticlassClassificationEvaluator\n",
    "from pyspark.ml.linalg import Vector, Vectors\n",
    "from pyspark.sql import Row, SparkSession\n",
    "from pyspark.ml.feature import IndexToString, StringIndexer, VectorIndexer"
   ]
  },
  {
   "cell_type": "code",
   "execution_count": 7,
   "id": "mysterious-waste",
   "metadata": {},
   "outputs": [],
   "source": [
    "spark = SparkSession.builder \\\n",
    "        .master(\"local\") \\\n",
    "        .appName(\"example\") \\\n",
    "        .config(\"spark.debug.maxToStringFields\", \"100\") \\\n",
    "        .config(\"spark.sql.shuffle.partitions\", \"400\") \\\n",
    "        .config(\"spark.default.parallelism\", \"600\") \\\n",
    "        .config(\"spark.sql.auto.repartition\", \"true\") \\\n",
    "        .config(\"spark.sql.execution.arrow.enabled\", \"true\") \\\n",
    "        .enableHiveSupport() \\\n",
    "        .getOrCreate()"
   ]
  },
  {
   "cell_type": "code",
   "execution_count": 8,
   "id": "median-introduction",
   "metadata": {},
   "outputs": [],
   "source": [
    "\"\"\"\n",
    "读取文本，第一个map将每行数据用'，'隔开，每行被分为5个部分，前四个为特征，最后一个为分类\n",
    "特征存入Vector中，创建一个lris模式的RDD，然后转为dataframe\n",
    "\"\"\"\n",
    "def f(x):\n",
    "    rel = {}\n",
    "    rel['features'] = Vectors \\\n",
    "    .dense(float(x[0]), float(x[1]), float(x[2]), float(x[3])) \n",
    "    rel['label'] = str(x[4])\n",
    "    return rel"
   ]
  },
  {
   "cell_type": "code",
   "execution_count": 9,
   "id": "functional-fleece",
   "metadata": {},
   "outputs": [
    {
     "name": "stdout",
     "output_type": "stream",
     "text": [
      "+-----------------+---------------+\n",
      "|         features|          label|\n",
      "+-----------------+---------------+\n",
      "|[5.1,3.5,1.4,0.2]|    Iris-setosa|\n",
      "|[4.9,3.0,1.4,0.2]|    Iris-setosa|\n",
      "|[4.7,3.2,1.3,0.2]|    Iris-setosa|\n",
      "|[4.6,3.1,1.5,0.2]|    Iris-setosa|\n",
      "|[5.0,3.6,1.4,0.2]|    Iris-setosa|\n",
      "|[5.4,3.9,1.7,0.4]|    Iris-setosa|\n",
      "|[4.6,3.4,1.4,0.3]|    Iris-setosa|\n",
      "|[5.0,3.4,1.5,0.2]|    Iris-setosa|\n",
      "|[4.4,2.9,1.4,0.2]|    Iris-setosa|\n",
      "|[4.9,3.1,1.5,0.1]|    Iris-setosa|\n",
      "|[5.4,3.7,1.5,0.2]|    Iris-setosa|\n",
      "|[4.8,3.4,1.6,0.2]|    Iris-setosa|\n",
      "|[4.8,3.0,1.4,0.1]|    Iris-setosa|\n",
      "|[4.3,3.0,1.1,0.1]|    Iris-setosa|\n",
      "|[5.8,4.0,1.2,0.2]|    Iris-setosa|\n",
      "|[5.7,4.4,1.5,0.4]|    Iris-setosa|\n",
      "|[5.4,3.9,1.3,0.4]|    Iris-setosa|\n",
      "|[5.1,3.5,1.4,0.3]|    Iris-setosa|\n",
      "|[5.7,3.8,1.7,0.3]|    Iris-setosa|\n",
      "|[5.1,3.8,1.5,0.3]|    Iris-setosa|\n",
      "|[5.4,3.4,1.7,0.2]|    Iris-setosa|\n",
      "|[5.1,3.7,1.5,0.4]|    Iris-setosa|\n",
      "|[4.6,3.6,1.0,0.2]|    Iris-setosa|\n",
      "|[5.1,3.3,1.7,0.5]|    Iris-setosa|\n",
      "|[4.8,3.4,1.9,0.2]|    Iris-setosa|\n",
      "|[5.0,3.0,1.6,0.2]|    Iris-setosa|\n",
      "|[5.0,3.4,1.6,0.4]|    Iris-setosa|\n",
      "|[5.2,3.5,1.5,0.2]|    Iris-setosa|\n",
      "|[5.2,3.4,1.4,0.2]|    Iris-setosa|\n",
      "|[4.7,3.2,1.6,0.2]|    Iris-setosa|\n",
      "|[4.8,3.1,1.6,0.2]|    Iris-setosa|\n",
      "|[5.4,3.4,1.5,0.4]|    Iris-setosa|\n",
      "|[5.2,4.1,1.5,0.1]|    Iris-setosa|\n",
      "|[5.5,4.2,1.4,0.2]|    Iris-setosa|\n",
      "|[4.9,3.1,1.5,0.1]|    Iris-setosa|\n",
      "|[5.0,3.2,1.2,0.2]|    Iris-setosa|\n",
      "|[5.5,3.5,1.3,0.2]|    Iris-setosa|\n",
      "|[4.9,3.1,1.5,0.1]|    Iris-setosa|\n",
      "|[4.4,3.0,1.3,0.2]|    Iris-setosa|\n",
      "|[5.1,3.4,1.5,0.2]|    Iris-setosa|\n",
      "|[5.0,3.5,1.3,0.3]|    Iris-setosa|\n",
      "|[4.5,2.3,1.3,0.3]|    Iris-setosa|\n",
      "|[4.4,3.2,1.3,0.2]|    Iris-setosa|\n",
      "|[5.0,3.5,1.6,0.6]|    Iris-setosa|\n",
      "|[5.1,3.8,1.9,0.4]|    Iris-setosa|\n",
      "|[4.8,3.0,1.4,0.3]|    Iris-setosa|\n",
      "|[5.1,3.8,1.6,0.2]|    Iris-setosa|\n",
      "|[4.6,3.2,1.4,0.2]|    Iris-setosa|\n",
      "|[5.3,3.7,1.5,0.2]|    Iris-setosa|\n",
      "|[5.0,3.3,1.4,0.2]|    Iris-setosa|\n",
      "|[7.0,3.2,4.7,1.4]|Iris-versicolor|\n",
      "|[6.4,3.2,4.5,1.5]|Iris-versicolor|\n",
      "|[6.9,3.1,4.9,1.5]|Iris-versicolor|\n",
      "|[5.5,2.3,4.0,1.3]|Iris-versicolor|\n",
      "|[6.5,2.8,4.6,1.5]|Iris-versicolor|\n",
      "|[5.7,2.8,4.5,1.3]|Iris-versicolor|\n",
      "|[6.3,3.3,4.7,1.6]|Iris-versicolor|\n",
      "|[4.9,2.4,3.3,1.0]|Iris-versicolor|\n",
      "|[6.6,2.9,4.6,1.3]|Iris-versicolor|\n",
      "|[5.2,2.7,3.9,1.4]|Iris-versicolor|\n",
      "|[5.0,2.0,3.5,1.0]|Iris-versicolor|\n",
      "|[5.9,3.0,4.2,1.5]|Iris-versicolor|\n",
      "|[6.0,2.2,4.0,1.0]|Iris-versicolor|\n",
      "|[6.1,2.9,4.7,1.4]|Iris-versicolor|\n",
      "|[5.6,2.9,3.6,1.3]|Iris-versicolor|\n",
      "|[6.7,3.1,4.4,1.4]|Iris-versicolor|\n",
      "|[5.6,3.0,4.5,1.5]|Iris-versicolor|\n",
      "|[5.8,2.7,4.1,1.0]|Iris-versicolor|\n",
      "|[6.2,2.2,4.5,1.5]|Iris-versicolor|\n",
      "|[5.6,2.5,3.9,1.1]|Iris-versicolor|\n",
      "|[5.9,3.2,4.8,1.8]|Iris-versicolor|\n",
      "|[6.1,2.8,4.0,1.3]|Iris-versicolor|\n",
      "|[6.3,2.5,4.9,1.5]|Iris-versicolor|\n",
      "|[6.1,2.8,4.7,1.2]|Iris-versicolor|\n",
      "|[6.4,2.9,4.3,1.3]|Iris-versicolor|\n",
      "|[6.6,3.0,4.4,1.4]|Iris-versicolor|\n",
      "|[6.8,2.8,4.8,1.4]|Iris-versicolor|\n",
      "|[6.7,3.0,5.0,1.7]|Iris-versicolor|\n",
      "|[6.0,2.9,4.5,1.5]|Iris-versicolor|\n",
      "|[5.7,2.6,3.5,1.0]|Iris-versicolor|\n",
      "|[5.5,2.4,3.8,1.1]|Iris-versicolor|\n",
      "|[5.5,2.4,3.7,1.0]|Iris-versicolor|\n",
      "|[5.8,2.7,3.9,1.2]|Iris-versicolor|\n",
      "|[6.0,2.7,5.1,1.6]|Iris-versicolor|\n",
      "|[5.4,3.0,4.5,1.5]|Iris-versicolor|\n",
      "|[6.0,3.4,4.5,1.6]|Iris-versicolor|\n",
      "|[6.7,3.1,4.7,1.5]|Iris-versicolor|\n",
      "|[6.3,2.3,4.4,1.3]|Iris-versicolor|\n",
      "|[5.6,3.0,4.1,1.3]|Iris-versicolor|\n",
      "|[5.5,2.5,4.0,1.3]|Iris-versicolor|\n",
      "|[5.5,2.6,4.4,1.2]|Iris-versicolor|\n",
      "|[6.1,3.0,4.6,1.4]|Iris-versicolor|\n",
      "|[5.8,2.6,4.0,1.2]|Iris-versicolor|\n",
      "|[5.0,2.3,3.3,1.0]|Iris-versicolor|\n",
      "|[5.6,2.7,4.2,1.3]|Iris-versicolor|\n",
      "|[5.7,3.0,4.2,1.2]|Iris-versicolor|\n",
      "|[5.7,2.9,4.2,1.3]|Iris-versicolor|\n",
      "|[6.2,2.9,4.3,1.3]|Iris-versicolor|\n",
      "|[5.1,2.5,3.0,1.1]|Iris-versicolor|\n",
      "|[5.7,2.8,4.1,1.3]|Iris-versicolor|\n",
      "+-----------------+---------------+\n",
      "only showing top 100 rows\n",
      "\n"
     ]
    }
   ],
   "source": [
    "data = spark.sparkContext.textFile(\"file:///home/hadoop/data/sparkMlib/iris.txt\") \\\n",
    ".map(lambda line: line.split(',')) \\\n",
    ".map(lambda p: Row(**f(p))) \\\n",
    ".toDF()\n",
    "\n",
    "data.show(100)"
   ]
  },
  {
   "cell_type": "code",
   "execution_count": 11,
   "id": "documented-hundred",
   "metadata": {},
   "outputs": [],
   "source": [
    "\"\"\"\n",
    "进一步处理特征和标签,同时将数据集随机分为训练集和测试集\n",
    "\"\"\"\n",
    "\n",
    "labelIndexer = StringIndexer() \\\n",
    "    .setInputCol(\"label\") \\\n",
    "    .setOutputCol(\"indexedLabel\") \\\n",
    "    .fit(data)\n",
    "\n",
    "featureIndexer = VectorIndexer() \\\n",
    "    .setInputCol(\"features\") \\\n",
    "    .setOutputCol(\"indexedFeatures\") \\\n",
    "    .setMaxCategories(4) \\\n",
    "    .fit(data)\n",
    "\n",
    "labelConverter = IndexToString() \\\n",
    "    .setInputCol(\"prediction\") \\\n",
    "    .setOutputCol(\"predictedLabel\") \\\n",
    "    .setLabels(labelIndexer.labels)\n",
    "\n",
    "trainingData, testData = data.randomSplit([0.7, 0.3])"
   ]
  },
  {
   "cell_type": "code",
   "execution_count": 12,
   "id": "committed-walter",
   "metadata": {},
   "outputs": [],
   "source": [
    "\"\"\"\n",
    "创建决策树模型DecisionTreeClassifier， 通过setter的方法来设置决策树的参数\n",
    "这里仅需要设置特征列（FeaturesCol）和待预测列（LabelCol）。具体可以设置的参数可以通过explainParams()来获取\n",
    "\"\"\"\n",
    "dtClassifier = DecisionTreeClassifier() \\\n",
    "    .setLabelCol(\"indexedLabel\") \\\n",
    "    .setFeaturesCol(\"indexedFeatures\")"
   ]
  },
  {
   "cell_type": "code",
   "execution_count": 15,
   "id": "latest-style",
   "metadata": {},
   "outputs": [
    {
     "name": "stdout",
     "output_type": "stream",
     "text": [
      "+---------------+---------------+-----------------+\n",
      "| predictedLabel|          label|         features|\n",
      "+---------------+---------------+-----------------+\n",
      "|    Iris-setosa|    Iris-setosa|[4.4,3.0,1.3,0.2]|\n",
      "|    Iris-setosa|    Iris-setosa|[4.6,3.1,1.5,0.2]|\n",
      "|    Iris-setosa|    Iris-setosa|[4.6,3.4,1.4,0.3]|\n",
      "| Iris-virginica|Iris-versicolor|[4.9,2.4,3.3,1.0]|\n",
      "|    Iris-setosa|    Iris-setosa|[4.9,3.1,1.5,0.1]|\n",
      "|    Iris-setosa|    Iris-setosa|[5.0,3.3,1.4,0.2]|\n",
      "|    Iris-setosa|    Iris-setosa|[5.0,3.4,1.5,0.2]|\n",
      "|    Iris-setosa|    Iris-setosa|[5.0,3.6,1.4,0.2]|\n",
      "|    Iris-setosa|    Iris-setosa|[5.1,3.4,1.5,0.2]|\n",
      "|    Iris-setosa|    Iris-setosa|[5.1,3.5,1.4,0.2]|\n",
      "|    Iris-setosa|    Iris-setosa|[5.1,3.8,1.6,0.2]|\n",
      "|    Iris-setosa|    Iris-setosa|[5.2,3.4,1.4,0.2]|\n",
      "|    Iris-setosa|    Iris-setosa|[5.4,3.9,1.7,0.4]|\n",
      "|Iris-versicolor|Iris-versicolor|[5.6,3.0,4.5,1.5]|\n",
      "|Iris-versicolor|Iris-versicolor|[5.7,2.8,4.5,1.3]|\n",
      "|    Iris-setosa|    Iris-setosa|[5.7,3.8,1.7,0.3]|\n",
      "|Iris-versicolor|Iris-versicolor|[6.1,2.8,4.0,1.3]|\n",
      "| Iris-virginica|Iris-versicolor|[6.3,2.5,4.9,1.5]|\n",
      "|Iris-versicolor|Iris-versicolor|[6.5,2.8,4.6,1.5]|\n",
      "|Iris-versicolor|Iris-versicolor|[6.6,3.0,4.4,1.4]|\n",
      "+---------------+---------------+-----------------+\n",
      "only showing top 20 rows\n",
      "\n"
     ]
    },
    {
     "data": {
      "text/plain": [
       "0.9471997300944669"
      ]
     },
     "execution_count": 15,
     "metadata": {},
     "output_type": "execute_result"
    }
   ],
   "source": [
    "\"\"\"\n",
    "构建机器学习流水线（Pipeline），在训练数据集上调用fit()进行模型训练，\n",
    "并在测试数据集上调用transform()方法进行预测\n",
    "\"\"\"\n",
    "# 设置流水线流程\n",
    "dtPipeline = Pipeline() \\\n",
    "    .setStages([labelIndexer, featureIndexer, dtClassifier, labelConverter])\n",
    "# 训练得到一个模型dtPipelineModel\n",
    "dtPipelineModel = dtPipeline.fit(trainingData)\n",
    "# 预测\n",
    "dtPredictions = dtPipelineModel.transform(testData)\n",
    "# 展示 \n",
    "dtPredictions.select(\"predictedLabel\", \"label\", \"features\").show(20)\n",
    "evaluator = MulticlassClassificationEvaluator() \\\n",
    "    .setLabelCol(\"indexedLabel\") \\\n",
    "    .setPredictionCol(\"prediction\") \n",
    "dtAccuracy = evaluator.evaluate(dtPredictions)\n",
    "dtAccuracy"
   ]
  },
  {
   "cell_type": "code",
   "execution_count": 11,
   "id": "demographic-valuation",
   "metadata": {},
   "outputs": [
    {
     "name": "stdout",
     "output_type": "stream",
     "text": [
      "Learned classification tree model:\n",
      "DecisionTreeClassificationModel (uid=DecisionTreeClassifier_464569bc2a6b) of depth 4 with 13 nodes\n",
      "  If (feature 2 <= 2.5999999999999996)\n",
      "   Predict: 1.0\n",
      "  Else (feature 2 > 2.5999999999999996)\n",
      "   If (feature 3 <= 1.65)\n",
      "    If (feature 2 <= 4.95)\n",
      "     Predict: 0.0\n",
      "    Else (feature 2 > 4.95)\n",
      "     If (feature 3 <= 1.55)\n",
      "      Predict: 2.0\n",
      "     Else (feature 3 > 1.55)\n",
      "      Predict: 0.0\n",
      "   Else (feature 3 > 1.65)\n",
      "    If (feature 2 <= 4.85)\n",
      "     If (feature 1 <= 3.05)\n",
      "      Predict: 2.0\n",
      "     Else (feature 1 > 3.05)\n",
      "      Predict: 0.0\n",
      "    Else (feature 2 > 4.85)\n",
      "     Predict: 2.0\n",
      "\n"
     ]
    }
   ],
   "source": [
    "\"\"\"\n",
    "调用DecisionTreeClassificationModel的toDebugString方法，查看训练的决策树模型结构\n",
    "\"\"\"\n",
    "treeModelClassifier = dtPipelineModel.stages[2]\n",
    "print(\"Learned classification tree model:\\n\" + str(treeModelClassifier.toDebugString))"
   ]
  },
  {
   "cell_type": "code",
   "execution_count": 16,
   "id": "figured-september",
   "metadata": {},
   "outputs": [
    {
     "data": {
      "text/plain": [
       "'\\n预测内容：\\n1. 预测未来一年扶贫费用的开支情况\\n2. 预测未来一年扶贫人口的药品使用情况\\n3. 判断药品开支是否合理\\n'"
      ]
     },
     "execution_count": 16,
     "metadata": {},
     "output_type": "execute_result"
    }
   ],
   "source": [
    "\"\"\"\n",
    "预测内容：\n",
    "1. 预测未来一年扶贫费用的开支情况\n",
    "2. 预测未来一年扶贫人口的药品使用情况\n",
    "3. 判断药品开支是否合理\n",
    "\"\"\""
   ]
  },
  {
   "cell_type": "code",
   "execution_count": null,
   "id": "d0a16c25-7b71-47cd-8a7d-c4f7d1d4be58",
   "metadata": {},
   "outputs": [],
   "source": []
  }
 ],
 "metadata": {
  "kernelspec": {
   "display_name": "Python 3",
   "language": "python",
   "name": "python3"
  },
  "language_info": {
   "codemirror_mode": {
    "name": "ipython",
    "version": 3
   },
   "file_extension": ".py",
   "mimetype": "text/x-python",
   "name": "python",
   "nbconvert_exporter": "python",
   "pygments_lexer": "ipython3",
   "version": "3.6.13"
  }
 },
 "nbformat": 4,
 "nbformat_minor": 5
}
